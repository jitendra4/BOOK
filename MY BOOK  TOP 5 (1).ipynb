{
 "cells": [
  {
   "cell_type": "code",
   "execution_count": 3,
   "metadata": {},
   "outputs": [
    {
     "name": "stdout",
     "output_type": "stream",
     "text": [
      "Requirement already satisfied: requests in d:\\new folder\\lib\\site-packages (2.24.0)\n",
      "Requirement already satisfied: urllib3!=1.25.0,!=1.25.1,<1.26,>=1.21.1 in d:\\new folder\\lib\\site-packages (from requests) (1.25.11)\n",
      "Requirement already satisfied: idna<3,>=2.5 in d:\\new folder\\lib\\site-packages (from requests) (2.10)\n",
      "Requirement already satisfied: certifi>=2017.4.17 in d:\\new folder\\lib\\site-packages (from requests) (2020.6.20)\n",
      "Requirement already satisfied: chardet<4,>=3.0.2 in d:\\new folder\\lib\\site-packages (from requests) (3.0.4)\n",
      "Requirement already satisfied: bs4 in d:\\new folder\\lib\\site-packages (0.0.1)\n",
      "Requirement already satisfied: beautifulsoup4 in d:\\new folder\\lib\\site-packages (from bs4) (4.9.3)\n",
      "Requirement already satisfied: soupsieve>1.2; python_version >= \"3.0\" in d:\\new folder\\lib\\site-packages (from beautifulsoup4->bs4) (2.0.1)\n"
     ]
    }
   ],
   "source": [
    "!pip install requests\n",
    "!pip install bs4"
   ]
  },
  {
   "cell_type": "code",
   "execution_count": 2,
   "metadata": {},
   "outputs": [],
   "source": [
    "#importing the requried Libraries\n",
    "from bs4 import BeautifulSoup\n",
    "import requests"
   ]
  },
  {
   "cell_type": "code",
   "execution_count": 4,
   "metadata": {},
   "outputs": [],
   "source": [
    "page= requests.get(\"https://bookpage.com/\")"
   ]
  },
  {
   "cell_type": "code",
   "execution_count": 5,
   "metadata": {},
   "outputs": [
    {
     "data": {
      "text/plain": [
       "b'<!DOCTYPE html>\\n<html lang=\\'en\\' xmlns:fb=\\'http://www.facebook.com/2008/fbml\\' xmlns:og=\\'http://opengraphprotocol.org/schema/\\'>\\n<head>\\n<title>BookPage | Discover your next great book!</title>\\n<meta name=\"description\" content=\"Find expert book recommendations for the best books to read in all genres.\">\\n<meta name=\"keywords\" content=\"books and literature, writing and writers\">\\n<link rel=\"canonical\" href=\"https://bookpage.com/\">\\n<meta property=\"og:site_name\" content=\"BookPage.com\">\\n<meta property=\"og:title\" content=\"Discover your next great book!\">\\n<meta property=\"og:description\" content=\"Find expert book recommendations for the best books to read in all genres.\">\\n<meta property=\"og:type\" content=\"website\">\\n<meta property=\"og:url\" content=\"https://bookpage.com/\">\\n<meta property=\"og:image\" content=\"//www.bookpage.com/default_image.jpg\">\\n<meta name=\"twitter:card\" content=\"summary\">\\n<meta name=\"twitter:site\" content=\"@bookpage\">\\n<meta name=\"twitter:creator\" content=\"@bookpage\">\\n<meta name=\"robots\" content=\"index,follow\">\\n<meta name=\"application-name\" content=\"BookPage\">\\n<meta name=\"msapplication-tooltip\" content=\"BookPage\">\\n<meta name=\"msapplication-starturl\" content=\"https://bookpage.com/\">\\n<meta name=\"msapplication-task\" content=\"name=BookPage;action-uri=https://bookpage.com;icon-uri=https://bookpage.com/favicon.ico\">\\n<meta name=\"msapplication-task\" content=\"name=BookPage on Twitter;action-uri=http://twitter.com/bookpage;icon-uri=http://twitter.com/favicon.ico\">\\n<meta name=\"msapplication-task\" content=\"name=BookPage on Facebook;action-uri=https://www.facebook.com/pages/BookPage/116675947874;icon-uri=https://s-static.ak.facebook.com/rsrc.php/yi/r/q9U99v3_saj.ico\">\\n<meta name=\"msapplication-task\" content=\"name=BookPage on Pinterest;action-uri=http://www.pinterest.com/bookpage/;icon-uri=http://www.pinterest.com/favicon.ico\">\\n<meta name=\"msapplication-task\" content=\"name=BookPage on YouTube;action-uri=http://www.youtube.com/BookPagedotcom;icon-uri=http://www.youtube.com/favicon.ico\">\\n<meta charset=\\'utf-8\\'>\\n<meta content=\\'IE=Edge,chrome=1\\' http-equiv=\\'X-UA-Compatible\\'>\\n<meta content=\\'width=device-width, initial-scale=1.0\\' name=\\'viewport\\'>\\n<meta name=\"csrf-param\" content=\"authenticity_token\" />\\n<meta name=\"csrf-token\" content=\"nCmrdOy/xo5jdppF/0m7HNqIo0JSDqOJNhy4CnS2Fo7QRNlADLRV95qv9WFBwqiB/5j7rb+LXfMWnGEn+xJPEg==\" />\\n<!-- Le HTML5 shim, for IE6-8 support of HTML elements -->\\n<!--[if lt IE 9]>\\n<script src=\"//html5shim.googlecode.com/svn/trunk/html5.js\"></script>\\n<![endif]-->\\n<link rel=\"stylesheet\" media=\"all\" href=\"/assets/application-b9f5cab7c2033d0b769ae1f7564d5c096ad9f82f5950241003f1b5d1bdae77ee.css\" />\\n<link href=\\'/apple-touch-icon-180x180.png\\' rel=\\'apple-touch-icon\\' sizes=\\'180x180\\'>\\n<link href=\\'/apple-touch-icon-152x152.png\\' rel=\\'apple-touch-icon\\' sizes=\\'152x152\\'>\\n<link href=\\'/apple-touch-icon-144x144.png\\' rel=\\'apple-touch-icon\\' sizes=\\'144x144\\'>\\n<link href=\\'/apple-touch-icon-120x120.png\\' rel=\\'apple-touch-icon\\' sizes=\\'120x120\\'>\\n<link href=\\'/apple-touch-icon-114x114.png\\' rel=\\'apple-touch-icon\\' sizes=\\'114x114\\'>\\n<link href=\\'/apple-touch-icon-76x76.png\\' rel=\\'apple-touch-icon\\' sizes=\\'76x76\\'>\\n<link href=\\'/apple-touch-icon-72x72.png\\' rel=\\'apple-touch-icon\\' sizes=\\'72x72\\'>\\n<link href=\\'/apple-touch-icon.png\\' rel=\\'apple-touch-icon\\'>\\n<link href=\\'/favicon.ico\\' rel=\\'shortcut icon\\'>\\n<meta content=\\'BookPage\\' name=\\'apple-mobile-web-app-title\\'>\\n<link rel=\"alternate\" type=\"application/atom+xml\" title=\"ATOM\" href=\"/feed\" />\\n<link rel=\"alternate\" type=\"application/rss+xml\" title=\"RSS\" href=\"/feed.rss\" />\\n<link href=\\'//fonts.googleapis.com/css?family=Open+Sans:400,600,700,800\\' rel=\\'stylesheet\\' type=\\'text/css\\'>\\n<link href=\\'//fonts.googleapis.com/css?family=Open+Sans+Condensed:700\\' rel=\\'stylesheet\\' type=\\'text/css\\'>\\n<script async=\\'async\\' src=\\'https://www.googletagservices.com/tag/js/gpt.js\\'></script>\\n<script>\\n var googletag = googletag || {};\\n googletag.cmd = googletag.cmd || [];\\n</script>\\n\\n<script>\\n googletag.cmd.push(function() {\\n   googletag.defineSlot(\\'/4655871/ATL\\', [970, 250], \\'div-gpt-ad-1515619791087-0\\').addService(googletag.pubads());\\n   googletag.pubads().enableSingleRequest();\\n   googletag.enableServices();\\n });\\n</script>\\n\\n<script src=\\'//d3c3cq33003psk.cloudfront.net/opentag-123939-1670854.js\\' async defer></script><script type=\"text/javascript\">\\n var googletag = googletag || {};\\ngoogletag.cmd = googletag.cmd || [];\\n(function() {\\nvar gads = document.createElement(\"script\");\\ngads.async = true;\\ngads.type = \"text/javascript\";\\nvar useSSL = \"https:\" == document.location.protocol;\\ngads.src = (useSSL ? \"https:\" : \"http:\") + \"//www.googletagservices.com/tag/js/gpt.js\";\\nvar node =document.getElementsByTagName(\"script\")[0];\\nnode.parentNode.insertBefore(gads, node);\\n})();\\n</script>\\n\\n<!-- Global site tag (gtag.js) - Google Analytics -->\\n<script async src=\"https://www.googletagmanager.com/gtag/js?id=GTM-P85NP22\"></script>\\n<script>\\n  window.dataLayer = window.dataLayer || [];\\n  function gtag(){dataLayer.push(arguments);}\\n  gtag(\\'js\\', new Date());\\n\\n  gtag(\\'config\\', \\'GTM-P85NP22\\');\\n</script>\\n\\n<script>\\n  (function(i,s,o,g,r,a,m){i[\\'GoogleAnalyticsObject\\']=r;i[r]=i[r]||function(){\\n  (i[r].q=i[r].q||[]).push(arguments)},i[r].l=1*new Date();a=s.createElement(o),\\n  m=s.getElementsByTagName(o)[0];a.async=1;a.src=g;m.parentNode.insertBefore(a,m)\\n  })(window,document,\\'script\\',\\'//www.google-analytics.com/analytics.js\\',\\'ga\\');\\n\\n  ga(\\'create\\', \\'UA-9261499-1\\', \\'auto\\');\\n  ga(\\'send\\', \\'pageview\\');\\n</script>\\n<!-- Google Tag Manager -->\\n<script>(function(w,d,s,l,i){w[l]=w[l]||[];w[l].push({\\'gtm.start\\':\\nnew Date().getTime(),event:\\'gtm.js\\'});var f=d.getElementsByTagName(s)[0],\\nj=d.createElement(s),dl=l!=\\'dataLayer\\'?\\'&l=\\'+l:\\'\\';j.async=true;j.src=\\n\\'https://www.googletagmanager.com/gtm.js?id=\\'+i+dl;f.parentNode.insertBefore(j,f);\\n})(window,document,\\'script\\',\\'dataLayer\\',\\'GTM-P85NP22\\');</script>\\n<!-- End Google Tag Manager -->\\n\\n<!-- Facebook Pixel Code -->\\n<script>\\n!function(f,b,e,v,n,t,s){if(f.fbq)return;n=f.fbq=function(){n.callMethod?\\nn.callMethod.apply(n,arguments):n.queue.push(arguments)};if(!f._fbq)f._fbq=n;\\nn.push=n;n.loaded=!0;n.version=\\'2.0\\';n.queue=[];t=b.createElement(e);t.async=!0;\\nt.src=v;s=b.getElementsByTagName(e)[0];s.parentNode.insertBefore(t,s)}(window,\\ndocument,\\'script\\',\\'//connect.facebook.net/en_US/fbevents.js\\');\\n\\nfbq(\\'init\\', \\'1746518832242335\\');\\nfbq(\\'track\\', \"PageView\");</script>\\n<noscript><img height=\"1\" width=\"1\" style=\"display:none\"\\nsrc=\"https://www.facebook.com/tr?id=1746518832242335&ev=PageView&noscript=1\"\\n/></noscript>\\n<!-- End Facebook Pixel Code -->\\n\\n<script>\\n    (function(h,o,t,j,a,r){\\n        h.hj=h.hj||function(){(h.hj.q=h.hj.q||[]).push(arguments)};\\n        h._hjSettings={hjid:1209228,hjsv:6};\\n        a=o.getElementsByTagName(\\'head\\')[0];\\n        r=o.createElement(\\'script\\');r.async=1;\\n        r.src=t+h._hjSettings.hjid+j+h._hjSettings.hjsv;\\n        a.appendChild(r);\\n    })(window,document,\\'https://static.hotjar.com/c/hotjar-\\',\\'.js?sv=\\');\\n</script>\\n\\n<!-- Facebook Pixel Code -->\\n<script>(function(){var s = document.createElement(\\'script\\'),e = ! document.body ? document.querySelector(\\'head\\') : document.body;s.src = \\'https://acsbapp.com/apps/app/assets/js/acsb.js\\';s.async = s.defer = true;s.onload = function(){acsbJS.init({statementLink : \\'\\',feedbackLink : \\'\\',footerHtml : \\'\\',hideMobile : false,hideTrigger : false,language : \\'en\\',position : \\'right\\',leadColor : \\'#146FF8\\',triggerColor : \\'#146FF8\\',triggerRadius : \\'50%\\',triggerPositionX : \\'right\\',triggerPositionY : \\'bottom\\',triggerIcon : \\'default\\',triggerSize : \\'medium\\',triggerOffsetX : 20,triggerOffsetY : 20,mobile : {triggerSize : \\'small\\',triggerPositionX : \\'right\\',triggerPositionY : \\'center\\',triggerOffsetX : 0,triggerOffsetY : 0,triggerRadius : \\'50%\\'}});};e.appendChild(s);}());</script>\\n<!-- End Facebook Pixel Code -->\\n\\n</head>\\n\\n<body>\\n<!-- Google Tag Manager -->\\n<noscript><iframe src=\"//www.googletagmanager.com/ns.html?id=GTM-T5GJ4V\"\\nheight=\"0\" width=\"0\" style=\"display:none;visibility:hidden\"></iframe></noscript>\\n<script>(function(w,d,s,l,i){w[l]=w[l]||[];w[l].push({\\'gtm.start\\':\\nnew Date().getTime(),event:\\'gtm.js\\'});var f=d.getElementsByTagName(s)[0],\\nj=d.createElement(s),dl=l!=\\'dataLayer\\'?\\'&l=\\'+l:\\'\\';j.async=true;j.src=\\n\\'//www.googletagmanager.com/gtm.js?id=\\'+i+dl;f.parentNode.insertBefore(j,f);\\n})(window,document,\\'script\\',\\'dataLayer\\',\\'GTM-T5GJ4V\\');</script>\\n<!-- End Google Tag Manager -->\\n\\n<!-- Google Tag Manager (noscript) -->\\n<noscript><iframe src=\"https://www.googletagmanager.com/ns.html?id=GTM-P85NP22\"\\nheight=\"0\" width=\"0\" style=\"display:none;visibility:hidden\"></iframe></noscript>\\n<!-- End Google Tag Manager (noscript) -->\\n\\n<!-- google ads -->\\n<script data-ad-client=\"ca-pub-1933750090033622\" async src=\"https://pagead2.googlesyndication.com/pagead/js/adsbygoogle.js\"></script>\\n\\n<div class=\\'container-fluid\\'>\\n<div class=\\'header\\'>\\n<div class=\\'navbar navbar-default navbar-fixed-top bp-nav\\'>\\n<div class=\\'row-fluid subscribe\\'>\\n<a class=\\'button\\' href=\\'https://signup.e2ma.net/signup/1896962/28888/\\' onclick=\"window.open(\\'https://signup.e2ma.net/signup/1896962/28888/\\', \\'signup\\', \\'menubar=no, location=no, toolbar=no, scrollbars=yes, height=800, width=500\\'); return false;\">Sign up for our newsletters!</a>\\n</div>\\n<div class=\\'navbar-inner\\'>\\n<a class=\\'btn btn-navbar\\' data-target=\\'.nav-collapse\\' data-toggle=\\'collapse\\'>\\n<i class=\\'zmdi zmdi-menu\\'></i>\\n</a>\\n<a href=\\'/\\'>\\n<img class=\"brand\" src=\"/assets/logos/logo_large-d48d8b33b2656c699a6815c500d328a7d0ee40edfde8536e957bfb739cfbf611.png\" alt=\"Logo large\" />\\n</a>\\n<div class=\\'nav-collapse\\'>\\n<ul class=\\'nav bp-navtext\\'>\\n<li class=\\'\\'><a href=\"/print-edition\">Print Edition</a></li>\\n<li class=\\' dropdown\\'>\\n<a aria-expanded=\\'false\\' aria-haspopup=\\'true\\' class=\\'dropdown-toggle\\' data-toggle=\\'dropdown\\' href=\\'/reviews\\' role=\\'button\\'>Book Reviews</a>\\n<ul class=\\'dropdown-menu\\'>\\n<li><a href=\"/reviews\">All Reviews</a></li>\\n<li><a href=\"/reviews?book_genre=fiction&amp;page=1\">Fiction</a></li>\\n<li><a href=\"/reviews?book_genre=nonfiction&amp;page=1\">Nonfiction</a></li>\\n<li><a href=\"/reviews?book_genre=children_s&amp;page=1\">Children&#39;s</a></li>\\n<li><a href=\"/reviews?book_genre=ya&amp;page=1\">YA</a></li>\\n<li><a href=\"/reviews?book_genre=mystery_suspense&amp;page=1\">Mystery</a></li>\\n<li><a href=\"/reviews?book_genre=romance&amp;page=1\">Romance</a></li>\\n</ul>\\n</li>\\n<li class=\\'\\'><a href=\"/interviews\">Interviews</a></li>\\n<li class=\\'\\'><a href=\"/features\">Features</a></li>\\n<li class=\\'nav-last dropdown\\'>\\n<a aria-expanded=\\'false\\' aria-haspopup=\\'true\\' class=\\'dropdown-toggle\\' data-toggle=\\'dropdown\\' href=\\'/reviews\\' role=\\'button\\'>Subscribe</a>\\n<ul class=\\'dropdown-menu\\'>\\n<li><a target=\"_blank\" href=\"http://www.subscriptions.bookpage.com/library\">Library</a></li>\\n<li><a target=\"_blank\" href=\"http://www.subscriptions.bookpage.com/bookstore\">Bookstore</a></li>\\n<li><a target=\"_blank\" href=\"http://MIurl.cc/Z6eD1pmI\">Individual</a></li>\\n</ul>\\n</li>\\n<div class=\\'search-box\\'>\\n<form class=\"search-form\" action=\"/search/\" accept-charset=\"UTF-8\" method=\"get\"><input name=\"utf8\" type=\"hidden\" value=\"&#x2713;\" />\\n<div class=\\'input-prepend\\'>\\n<span class=\\'add-on add-on-custom\\'>\\n<i class=\\'fa fa-search\\'></i>\\n</span>\\n<input type=\"text\" name=\"query\" id=\"query\" class=\"input-medium query-input\" placeholder=\"Search BookPage\" />\\n</div>\\n</form>\\n\\n</div>\\n\\n</ul>\\n</div>\\n</div>\\n</div>\\n\\n</div>\\n<div class=\\'page-content\\'>\\n<div class=\\'home\\'>\\n<h1 class=\\'hidden\\'>BookPage - Discover your next great book!</h1>\\n<div class=\\'row-fluid\\'>\\n<div class=\\'span12\\'>\\n<div class=\\'carousel slide\\' id=\\'heroCarousel\\'>\\n<div class=\\'carousel-inner\\'>\\n<div class=\\'active item\\'>\\n<div class=\\'row\\'>\\n<div class=\\'span6 hero-img\\'>\\n<a href=\"http://bkpg.it/6HL\"><img alt=\\'Mateo Askaripour hero image\\' src=\\'https://t1.bookpage.com/hero_units/hero_images/8a5578078d8f9ada1c1ce797782e50fa.jpg\\'>\\n</a></div>\\n<div class=\\'span6 hero-text\\'>\\n<h4 class=\\'title\\'>\\n<a href=\"http://bkpg.it/6HL\">Mateo Askaripour</a>\\n</h4>\\n<p class=\\'sans\\'></p>\\n<p class=\\'subtitle\\'>Ascent of a salesman</p>\\n<p class=\\'sans\\'></p>\\n<p class=\\'body\\'>\\n<a href=\"http://bkpg.it/6HL\">After learning what it takes to make it in the corporate world, Mateo Askaripour spins that knowledge into gold in his riotous first novel, <strong>Black Buck</strong>.</a>\\n</p>\\n</div>\\n</div>\\n</div>\\n<div class=\\'item\\'>\\n<div class=\\'row\\'>\\n<div class=\\'span6 hero-img\\'>\\n<a href=\"http://bkpg.it/6HD\"><img alt=\\'\\' src=\\'https://t1.bookpage.com/hero_units/hero_images/d70dc64c2c3a348b0fef0d9134127018.jpg\\'>\\n</a></div>\\n<div class=\\'span6 hero-text\\'>\\n<h4 class=\\'title\\'>\\n<a href=\"http://bkpg.it/6HD\">Cozy mysteries</a>\\n</h4>\\n<p class=\\'sans\\'></p>\\n<p class=\\'subtitle\\'>Three favorites to kick off the new year</p>\\n<p class=\\'sans\\'></p>\\n<p class=\\'body\\'>\\n<a href=\"http://bkpg.it/6HD\">A priest, a Regency lady and a snippy private investigator are all faced with fiendish puzzles in this month&rsquo;s cozy mystery column.</a>\\n</p>\\n</div>\\n</div>\\n</div>\\n<div class=\\'item\\'>\\n<div class=\\'row\\'>\\n<div class=\\'span6 hero-img\\'>\\n<a href=\"http://bkpg.it/6Hx\"><img alt=\\'\\' src=\\'https://t1.bookpage.com/hero_units/hero_images/42a14c4f7ef80b59f7bbafa1d0def47e.jpg\\'>\\n</a></div>\\n<div class=\\'span6 hero-text\\'>\\n<h4 class=\\'title\\'>\\n<a href=\"http://bkpg.it/6Hx\">The Hold List: January 2021</a>\\n</h4>\\n<p class=\\'sans\\'></p>\\n<p class=\\'subtitle\\'>Books that are personal treats, just for us</p>\\n<p class=\\'sans\\'></p>\\n<p class=\\'body\\'>\\n<a href=\"http://bkpg.it/6Hx\">January may be a time for resolutions, but it&rsquo;s also a time for celebrating all we experienced the year before. We&rsquo;re closing the door on 2020 and treating ourselves to these books as we begin the new year with hope.</a>\\n</p>\\n</div>\\n</div>\\n</div>\\n</div>\\n<div class=\\'row-fluid carousel-indicators-row\\'>\\n<div class=\\'span6\\'></div>\\n<div class=\\'span6\\'>\\n<ol class=\\'carousel-indicators\\'>\\n<li class=\\'active\\' data-slide-to=\\'0\\' data-target=\\'#heroCarousel\\'>\\n<span>1</span>\\n</li>\\n<li data-slide-to=\\'1\\' data-target=\\'#heroCarousel\\'>\\n<span>2</span>\\n</li>\\n<li data-slide-to=\\'2\\' data-target=\\'#heroCarousel\\'>\\n<span>3</span>\\n</li>\\n</ol>\\n</div>\\n</div>\\n</div>\\n\\n</div>\\n</div>\\n<div class=\\'row-fluid\\'>\\n<div class=\\'dark-block span12\\'>\\n<div class=\\'span6 offset3\\'>\\n<h3 class=\\'italic white-text btm-padding\\'>Discover your next great book!</h3>\\n<p>BookPage is a discovery tool for readers, highlighting the best new books across all genres. BookPage is editorially independent; only books we highly recommend are featured. Any publisher-sponsored content is clearly labeled as such.</p>\\n</div>\\n</div>\\n</div>\\n<div class=\\'row-fluid\\'>\\n<h4 class=\\'heading\\'>Features</h4>\\n</div>\\n<div class=\\'row-fluid articles-block homepage-features\\'>\\n<div class=\\'span6\\'>\\n<div class=\\'bp-well no-padding\\'>\\n<div class=\\'bp-block article-info fixed-height no-margin\\'>\\n<div class=\\'article-list-left cover\\'>\\n<a href=\"/features/25862-snowy-days-childrens\"><img src=\"https://t1.bookpage.com/books/images/23eb13171a17f6e36c1cb33723d8fe38/medium.jpg\" alt=\"Medium\" /></a>\\n</div>\\n<div class=\\'content\\'>\\n<h4 class=\\'italic\\'>\\n<a href=\"/features/25862-snowy-days-childrens\">Snowy days</a>\\n</h4>\\n<p class=\\'sans bold\\'>\\nFeature by Alice Cary\\n</p>\\n<p class=\\'genre-links hidden-phone\\'>\\n<a href=\"/search?book_genre=children_s\">Children&#39;s</a>\\n / \\n<a href=\"/search?book_genre=children_s_picture_book\">Children&#39;s Picture Book</a>\\n</p>\\n\\n<p class=\\'excerpt\\'>\\nA Sled for Gabo and Ten Ways to Hear Snow are worthy additions to Ezra Jack Keats\\xe2\\x80\\x99 snow-story legacy.\\n</p>\\n<div class=\\'read-full\\'>\\n<a href=\"/features/25862-snowy-days-childrens\">Read More <i class=\\'zmdi zmdi-chevron-right\\'></i></a>\\n</div>\\n</div>\\n<br class=\\'clear\\'>\\n</div>\\n\\n</div>\\n</div>\\n<div class=\\'span6\\'>\\n<div class=\\'bp-well no-padding\\'>\\n<div class=\\'bp-block article-info fixed-height no-margin\\'>\\n<div class=\\'article-list-left cover\\'>\\n<a href=\"/features/25764-audio-january-2021-audio\"><img src=\"https://t1.bookpage.com/books/images/a5f04f5c39fe87410aa8af35be88d2af/medium.jpg\" alt=\"Medium\" /></a>\\n</div>\\n<div class=\\'content\\'>\\n<h4 class=\\'italic\\'>\\n<a href=\"/features/25764-audio-january-2021-audio\">Audio: January 2021</a>\\n</h4>\\n<p class=\\'sans bold\\'>\\nFeature by Anna Zeitlin\\n</p>\\n<p class=\\'genre-links hidden-phone\\'>\\n<a href=\"/search?book_genre=audio\">Audio</a>\\n / \\n<a href=\"/search?book_genre=poetry\">Poetry</a>\\n / \\n<a href=\"/search?book_genre=fiction\">Fiction</a>\\n</p>\\n\\n<p class=\\'excerpt\\'>\\nTry one of these audiobooks, and your ears\\xe2\\x80\\x94and heart and mind\\xe2\\x80\\x94will thank you.\\n</p>\\n<div class=\\'read-full\\'>\\n<a href=\"/features/25764-audio-january-2021-audio\">Read More <i class=\\'zmdi zmdi-chevron-right\\'></i></a>\\n</div>\\n</div>\\n<br class=\\'clear\\'>\\n</div>\\n\\n</div>\\n</div>\\n</div>\\n<div class=\\'row-fluid button-row\\'>\\n<a class=\"button\" href=\"/features\">All Features</a>\\n</div>\\n<div class=\\'row-fluid button-row\\'>\\n\\n<!-- billboard size -->\\n<script type=\"text/javascript\" language=\"JavaScript\">\\nif (window.innerWidth <= 600) {\\nvar aj_dim = 514841;\\n} else if (window.innerWidth >= 1000) {\\nvar aj_dim = \\'514838,514839\\';\\n} else {\\nvar aj_dim = 514839;\\n};\\naj_server = \\'https://litbreaker.nui.media/pipeline/\\'; aj_tagver = \\'1.0\\';\\naj_zone = \\'litbreaker\\'; aj_adspot = \\'518299\\'; aj_page = \\'0\\'; aj_ch = \\'\\'; aj_kw = \\'\\';\\naj_pv = true; aj_click = \\'\\';\\n</script><script type=\"text/javascript\" language=\"JavaScript\" src=\"https://img.nui.media/banners/ajtg.js\"></script>\\n\\n<!-- <script type=\"text/javascript\" language=\"JavaScript\">\\naj_server = \\'https://litbreaker.nui.media/pipeline/\\'; aj_tagver = \\'1.0\\';\\naj_zone = \\'litbreaker\\'; aj_adspot = \\'518299\\'; aj_page = \\'0\\'; aj_dim =\\'514838,514839\\'; aj_ch = \\'\\'; aj_ct = \\'\\'; aj_kw = \\'\\';\\naj_pv = true; aj_click = \\'\\';\\n</script><script type=\"text/javascript\" language=\"JavaScript\" src=\"https://img.nui.media/banners/ajtg.js\"></script>\\n-->\\n\\n<!-- <script type=\"text/javascript\" language=\"JavaScript\">\\naj_server = \\'https://litbreaker.nui.media/pipeline/\\'; aj_tagver = \\'1.0\\';\\naj_zone = \\'litbreaker\\'; aj_adspot = \\'557205\\'; aj_page = \\'0\\'; aj_dim =\\'514838\\'; aj_ch = \\'\\'; aj_ct = \\'\\'; aj_kw = \\'\\';\\naj_pv = true; aj_click = \\'\\';\\n</script><script type=\"text/javascript\" language=\"JavaScript\" src=\"https://img.nui.media/banners/ajtg.js\"></script> -->\\n\\n</div>\\n<div class=\\'row-fluid\\'>\\n<h4 class=\\'heading\\'>Latest Reviews</h4>\\n</div>\\n<div class=\\'row-fluid latest-reviews\\'>\\n<div class=\\'latest-reviews-block span12\\'>\\n<div class=\\'row-fluid\\'>\\n<div class=\\'bp-well no-padding span6\\'>\\n<div class=\\'bp-block article-info fixed-height no-margin\\'>\\n<div class=\\'article-list-left cover\\'>\\n<a class=\"span10\" href=\"/reviews/25814-sarah-moss-summerwater-fiction\"><img src=\"https://t1.bookpage.com/books/images/fc626e849115d3ec6eb14e5bc15825bf/medium.jpg\" alt=\"Medium\" /></a>\\n</div>\\n<div class=\\'content\\'>\\n<h4 class=\\'italic\\'>\\n<a href=\"/reviews/25814-sarah-moss-summerwater-fiction\">Summerwater</a>\\n</h4>\\n<p class=\\'sans bold\\'>\\nReview by Thane Tierney\\n</p>\\n<p class=\\'genre-links hidden-phone\\'>\\n<a href=\"/search?book_genre=fiction\">Fiction</a>\\n / \\n<a href=\"/search?book_genre=literary_fiction\">Literary Fiction</a>\\n</p>\\n\\n<p class=\\'excerpt\\'>\\nNothing sets up a potential catastrophe better than the combination of outsiders and wilderness, and on this point Sarah Moss does not disappoint.\\n</p>\\n<div class=\\'read-full\\'>\\n<a href=\"/reviews/25814-sarah-moss-summerwater-fiction\">Read More <i class=\\'zmdi zmdi-chevron-right\\'></i></a>\\n</div>\\n</div>\\n<br class=\\'clear\\'>\\n</div>\\n\\n</div>\\n<div class=\\'bp-well no-padding span6\\'>\\n<div class=\\'bp-block article-info fixed-height no-margin\\'>\\n<div class=\\'article-list-left cover\\'>\\n<a class=\"span10\" href=\"/reviews/25894-b-b-alston-amari-night-brothers-childrens\"><img src=\"https://t1.bookpage.com/books/images/a9ed96f84faf0fef481ccf05dc432d1f/medium.jpg\" alt=\"Medium\" /></a>\\n</div>\\n<div class=\\'content\\'>\\n<h4 class=\\'italic\\'>\\n<a href=\"/reviews/25894-b-b-alston-amari-night-brothers-childrens\">Amari and the Night Brothers</a>\\n</h4>\\n<p class=\\'sans bold\\'>\\nReview by Alice Cary\\n</p>\\n<p class=\\'genre-links hidden-phone\\'>\\n<a href=\"/search?book_genre=children_s\">Children&#39;s</a>\\n / \\n<a href=\"/search?book_genre=middle_grade\">Middle Grade</a>\\n</p>\\n\\n<p class=\\'excerpt\\'>\\nFans of blockbuster fantasy sagas will adore this empowering, action-packed series opener featuring a confident Black heroine who is discovering her own...\\n</p>\\n<div class=\\'read-full\\'>\\n<a href=\"/reviews/25894-b-b-alston-amari-night-brothers-childrens\">Read More <i class=\\'zmdi zmdi-chevron-right\\'></i></a>\\n</div>\\n</div>\\n<br class=\\'clear\\'>\\n</div>\\n\\n</div>\\n</div>\\n<div class=\\'row-fluid\\'>\\n<div class=\\'bp-well no-padding span6\\'>\\n<div class=\\'bp-block article-info fixed-height no-margin\\'>\\n<div class=\\'article-list-left cover\\'>\\n<a class=\"span10\" href=\"/reviews/25888-kristin-cashore-winterkeep-ya\"><img src=\"https://t1.bookpage.com/books/images/c8f851446eba68d1ba4f771c1f8364e8/medium.jpg\" alt=\"Medium\" /></a>\\n</div>\\n<div class=\\'content\\'>\\n<h4 class=\\'italic\\'>\\n<a href=\"/reviews/25888-kristin-cashore-winterkeep-ya\">Winterkeep</a>\\n</h4>\\n<p class=\\'sans bold\\'>\\nReview by Jill Ratzan\\n</p>\\n<p class=\\'genre-links hidden-phone\\'>\\n<a href=\"/search?book_genre=ya\">YA</a>\\n / \\n<a href=\"/search?book_genre=ya_fiction\">YA Fiction</a>\\n</p>\\n\\n<p class=\\'excerpt\\'>\\nFans of Kristin Cashore\\xe2\\x80\\x99s Seven Realms novels can breathe a sigh of relief: Winterkeep does not disappoint.\\n</p>\\n<div class=\\'read-full\\'>\\n<a href=\"/reviews/25888-kristin-cashore-winterkeep-ya\">Read More <i class=\\'zmdi zmdi-chevron-right\\'></i></a>\\n</div>\\n</div>\\n<br class=\\'clear\\'>\\n</div>\\n\\n</div>\\n<div class=\\'bp-well no-padding span6\\'>\\n<div class=\\'bp-block article-info fixed-height no-margin\\'>\\n<div class=\\'article-list-left cover\\'>\\n<a class=\"span10\" href=\"/reviews/25797-james-oakes-crooked-path-to-abolition-history\"><img src=\"https://t1.bookpage.com/books/images/b02228098597a8a97e754249c3b4dc7c/medium.jpg\" alt=\"Medium\" /></a>\\n</div>\\n<div class=\\'content\\'>\\n<h4 class=\\'italic\\'>\\n<a href=\"/reviews/25797-james-oakes-crooked-path-to-abolition-history\">The Crooked Path to Abolition</a>\\n</h4>\\n<p class=\\'sans bold\\'>\\nReview by Roger Bishop\\n</p>\\n<p class=\\'genre-links hidden-phone\\'>\\n<a href=\"/search?book_genre=nonfiction\">Nonfiction</a>\\n / \\n<a href=\"/search?book_genre=history\">History</a>\\n / \\n<a href=\"/search?book_genre=american_history\">American History</a>\\n</p>\\n\\n<p class=\\'excerpt\\'>\\nThe Crooked Path to Abolition is richly rewarding and helps us see the full context of political decisions that put slavery on a course of ultimate...\\n</p>\\n<div class=\\'read-full\\'>\\n<a href=\"/reviews/25797-james-oakes-crooked-path-to-abolition-nonfiction\">Read More <i class=\\'zmdi zmdi-chevron-right\\'></i></a>\\n</div>\\n</div>\\n<br class=\\'clear\\'>\\n</div>\\n\\n</div>\\n</div>\\n</div>\\n</div>\\n<div class=\\'row-fluid\\'>\\n</div>\\n</div>\\n\\n</div>\\n</div>\\n<div class=\\'container-fluid no-padding\\'>\\n<div class=\\'footer row-fluid\\'>\\n<div class=\\'dark-block span12\\'>\\n<footer>\\n<div class=\\'row-fluid brand\\'>\\n<div class=\\'span3\\'></div>\\n<div class=\\'span6 middle\\'>\\n<img width=\"156\" height=\"36\" class=\"brand\" src=\"/assets/logos/logo_gray-895f864507d68e549bee2b02a0872a197ce42fe59b407ad4651db8acf446f06b.png\" alt=\"Logo gray\" />\\n</div>\\n</div>\\n<div class=\\'row-fluid\\'>\\n<p class=\\'list-header\\'>Subscriptions</p>\\n<p class=\\'sitemap\\'>\\n<a target=\"_blank\" href=\"http://www.subscriptions.bookpage.com/bookstore\">Bookstore</a>\\n\\xe2\\x80\\xa2\\n<a target=\"_blank\" href=\"http://www.subscriptions.bookpage.com/library\">Library</a>\\n\\xe2\\x80\\xa2\\n<a target=\"_blank\" href=\"http://MIurl.cc/Z6eD1pmI\">Individual</a>\\n\\xe2\\x80\\xa2\\n<a href=\"https://www.amazon.com/BookPage/dp/B00ATRKG30/ref=sr_1_1?ie=UTF8&amp;qid=1533306733&amp;sr=8-1&amp;keywords=bookpage\">Digital\\n</a>\\xe2\\x80\\xa2\\n<a href=\"/content/locations\">Find BookPage\\n</a></p>\\n</div>\\n<div class=\\'row-fluid\\'>\\n<p class=\\'list-header\\'>Company</p>\\n<p class=\\'sitemap\\'>\\n<a href=\"/content/about-us\">About BookPage\\n</a>\\xe2\\x80\\xa2\\n<a href=\"/content/advertise\">Advertise\\n</a>\\xe2\\x80\\xa2\\n<a href=\"/content/contact-us\">Contact Us\\n</a>\\xe2\\x80\\xa2\\n<a href=\"/content/privacy\">Privacy Policy\\n</a>\\xe2\\x80\\xa2\\n<a href=\"/content/submission-guidelines\">Submission Guidelines\\n</a></p>\\n</div>\\n<div class=\\'row-fluid\\'>\\n<div class=\\'social-block\\'>\\n<a href=\"https://www.facebook.com/pages/BookPage/116675947874\"><i class=\\'zmdi zmdi-facebook-box\\'></i></a>\\n<a href=\"https://twitter.com/bookpage\"><i class=\\'zmdi zmdi-twitter-box\\'></i></a>\\n<a href=\"https://www.instagram.com/readbookpage/?hl=en\"><i class=\\'zmdi zmdi-instagram\\'></i></a>\\n</div>\\n</div>\\n<div class=\\'row-fluid copyright\\'>\\n<p>&copy; 1996-2021 BookPage and ProMotion, inc. | 2143 Belcourt Avenue, Nashville, TN 37212</p>\\n</div>\\n</footer>\\n</div>\\n</div>\\n\\n</div>\\n<script src=\"/assets/application-8a7d9ed6d528157c163702ce8da91235bc386358e07d32fbb4658ae48c768826.js\"></script>\\n<script id=\"e2ma-embed\" type=\"text/javascript\">window.e2ma=window.e2ma||{};e2ma.accountId=\\'28888\\';</script>\\n<script src=\"//dk98ddgl0znzm.cloudfront.net/e2ma.js\" async=\"async\"></script>\\n\\n</body>\\n</html>\\n'"
      ]
     },
     "execution_count": 5,
     "metadata": {},
     "output_type": "execute_result"
    }
   ],
   "source": [
    "page.content"
   ]
  },
  {
   "cell_type": "code",
   "execution_count": 6,
   "metadata": {},
   "outputs": [],
   "source": [
    "soup = BeautifulSoup(page.content,'html.parser')"
   ]
  },
  {
   "cell_type": "code",
   "execution_count": 38,
   "metadata": {},
   "outputs": [],
   "source": [
    "book_name=[]\n",
    "author_name=[]\n",
    "genre_review=[]"
   ]
  },
  {
   "cell_type": "code",
   "execution_count": 46,
   "metadata": {},
   "outputs": [
    {
     "data": {
      "text/plain": [
       "[<h4 class=\"italic\">\n",
       " <a href=\"/features/25862-snowy-days-childrens\">Snowy days</a>\n",
       " </h4>,\n",
       " <h4 class=\"italic\">\n",
       " <a href=\"/features/25764-audio-january-2021-audio\">Audio: January 2021</a>\n",
       " </h4>,\n",
       " <h4 class=\"italic\">\n",
       " <a href=\"/reviews/25814-sarah-moss-summerwater-fiction\">Summerwater</a>\n",
       " </h4>,\n",
       " <h4 class=\"italic\">\n",
       " <a href=\"/reviews/25894-b-b-alston-amari-night-brothers-childrens\">Amari and the Night Brothers</a>\n",
       " </h4>]"
      ]
     },
     "execution_count": 46,
     "metadata": {},
     "output_type": "execute_result"
    }
   ],
   "source": [
    "# let extract at the tags having the book-name\n",
    "book=soup.find_all('h4',class_=\"italic\")\n",
    "book[0:4]"
   ]
  },
  {
   "cell_type": "code",
   "execution_count": 20,
   "metadata": {},
   "outputs": [
    {
     "data": {
      "text/plain": [
       "['Snowy days',\n",
       " 'Audio: January 2021',\n",
       " 'Summerwater',\n",
       " 'Amari and the Night Brothers',\n",
       " 'Winterkeep',\n",
       " 'The Crooked Path to Abolition']"
      ]
     },
     "execution_count": 20,
     "metadata": {},
     "output_type": "execute_result"
    }
   ],
   "source": [
    "for i in book:\n",
    "    book_name.append(i.get_text().replace(\"\\n\",\"\"))\n",
    "book_name"
   ]
  },
  {
   "cell_type": "code",
   "execution_count": 28,
   "metadata": {},
   "outputs": [
    {
     "data": {
      "text/plain": [
       "'Snowy days'"
      ]
     },
     "execution_count": 28,
     "metadata": {},
     "output_type": "execute_result"
    }
   ],
   "source": [
    "book[0].get_text().replace(\"\\n\",\"\")"
   ]
  },
  {
   "cell_type": "code",
   "execution_count": 47,
   "metadata": {},
   "outputs": [
    {
     "data": {
      "text/plain": [
       "[<p class=\"sans bold\">\n",
       " Feature by Alice Cary\n",
       " </p>,\n",
       " <p class=\"sans bold\">\n",
       " Feature by Anna Zeitlin\n",
       " </p>,\n",
       " <p class=\"sans bold\">\n",
       " Review by Thane Tierney\n",
       " </p>,\n",
       " <p class=\"sans bold\">\n",
       " Review by Alice Cary\n",
       " </p>]"
      ]
     },
     "execution_count": 47,
     "metadata": {},
     "output_type": "execute_result"
    }
   ],
   "source": [
    "# let extract at the tags having the author-name\n",
    "author=soup.find_all('p',class_=\"sans bold\")\n",
    "author[0:4]"
   ]
  },
  {
   "cell_type": "code",
   "execution_count": 30,
   "metadata": {},
   "outputs": [
    {
     "data": {
      "text/plain": [
       "['Feature by Alice Cary',\n",
       " 'Feature by Anna Zeitlin',\n",
       " 'Review by Thane Tierney',\n",
       " 'Review by Alice Cary',\n",
       " 'Review by Jill Ratzan',\n",
       " 'Review by Roger Bishop',\n",
       " 'Feature by Alice Cary',\n",
       " 'Feature by Anna Zeitlin',\n",
       " 'Review by Thane Tierney',\n",
       " 'Review by Alice Cary',\n",
       " 'Review by Jill Ratzan',\n",
       " 'Review by Roger Bishop']"
      ]
     },
     "execution_count": 30,
     "metadata": {},
     "output_type": "execute_result"
    }
   ],
   "source": [
    "for i in author:\n",
    "    author_name.append(i.get_text().replace(\"\\n\",\"\"))\n",
    "author_name"
   ]
  },
  {
   "cell_type": "code",
   "execution_count": 31,
   "metadata": {},
   "outputs": [
    {
     "data": {
      "text/plain": [
       "'Feature by Alice Cary'"
      ]
     },
     "execution_count": 31,
     "metadata": {},
     "output_type": "execute_result"
    }
   ],
   "source": [
    "author[0].get_text().replace(\"\\n\",\"\")"
   ]
  },
  {
   "cell_type": "code",
   "execution_count": 42,
   "metadata": {},
   "outputs": [
    {
     "data": {
      "text/plain": [
       "6"
      ]
     },
     "execution_count": 42,
     "metadata": {},
     "output_type": "execute_result"
    }
   ],
   "source": [
    "len(author)"
   ]
  },
  {
   "cell_type": "code",
   "execution_count": 48,
   "metadata": {},
   "outputs": [
    {
     "data": {
      "text/plain": [
       "[<p class=\"genre-links hidden-phone\">\n",
       " <a href=\"/search?book_genre=children_s\">Children's</a>\n",
       "  / \n",
       " <a href=\"/search?book_genre=children_s_picture_book\">Children's Picture Book</a>\n",
       " </p>,\n",
       " <p class=\"genre-links hidden-phone\">\n",
       " <a href=\"/search?book_genre=audio\">Audio</a>\n",
       "  / \n",
       " <a href=\"/search?book_genre=poetry\">Poetry</a>\n",
       "  / \n",
       " <a href=\"/search?book_genre=fiction\">Fiction</a>\n",
       " </p>,\n",
       " <p class=\"genre-links hidden-phone\">\n",
       " <a href=\"/search?book_genre=fiction\">Fiction</a>\n",
       "  / \n",
       " <a href=\"/search?book_genre=literary_fiction\">Literary Fiction</a>\n",
       " </p>,\n",
       " <p class=\"genre-links hidden-phone\">\n",
       " <a href=\"/search?book_genre=children_s\">Children's</a>\n",
       "  / \n",
       " <a href=\"/search?book_genre=middle_grade\">Middle Grade</a>\n",
       " </p>]"
      ]
     },
     "execution_count": 48,
     "metadata": {},
     "output_type": "execute_result"
    }
   ],
   "source": [
    "# let extract at the tags having the genre-name\n",
    "genre=soup.find_all('p',class_=\"genre-links hidden-phone\")\n",
    "genre[0:4]"
   ]
  },
  {
   "cell_type": "code",
   "execution_count": 36,
   "metadata": {},
   "outputs": [
    {
     "data": {
      "text/plain": [
       "[\"Children's / Children's Picture Book\",\n",
       " 'Audio / Poetry / Fiction',\n",
       " 'Fiction / Literary Fiction',\n",
       " \"Children's / Middle Grade\",\n",
       " 'YA / YA Fiction',\n",
       " 'Nonfiction / History / American History',\n",
       " \"Children's / Children's Picture Book\",\n",
       " 'Audio / Poetry / Fiction',\n",
       " 'Fiction / Literary Fiction',\n",
       " \"Children's / Middle Grade\",\n",
       " 'YA / YA Fiction',\n",
       " 'Nonfiction / History / American History']"
      ]
     },
     "execution_count": 36,
     "metadata": {},
     "output_type": "execute_result"
    }
   ],
   "source": [
    "for i in genre:\n",
    "    genre_review.append(i.get_text().replace(\"\\n\",\"\"))\n",
    "genre_review"
   ]
  },
  {
   "cell_type": "code",
   "execution_count": 41,
   "metadata": {},
   "outputs": [
    {
     "data": {
      "text/plain": [
       "\"Children's / Children's Picture Book\""
      ]
     },
     "execution_count": 41,
     "metadata": {},
     "output_type": "execute_result"
    }
   ],
   "source": [
    "genre[0].get_text().replace(\"\\n\",\"\")"
   ]
  },
  {
   "cell_type": "code",
   "execution_count": 43,
   "metadata": {},
   "outputs": [
    {
     "name": "stdout",
     "output_type": "stream",
     "text": [
      "6 6 6\n"
     ]
    }
   ],
   "source": [
    "print(len(book),\n",
    "      len(author),\n",
    "      len(genre))"
   ]
  },
  {
   "cell_type": "code",
   "execution_count": 45,
   "metadata": {},
   "outputs": [
    {
     "data": {
      "text/html": [
       "<div>\n",
       "<style scoped>\n",
       "    .dataframe tbody tr th:only-of-type {\n",
       "        vertical-align: middle;\n",
       "    }\n",
       "\n",
       "    .dataframe tbody tr th {\n",
       "        vertical-align: top;\n",
       "    }\n",
       "\n",
       "    .dataframe thead th {\n",
       "        text-align: right;\n",
       "    }\n",
       "</style>\n",
       "<table border=\"1\" class=\"dataframe\">\n",
       "  <thead>\n",
       "    <tr style=\"text-align: right;\">\n",
       "      <th></th>\n",
       "      <th>book_name</th>\n",
       "      <th>author_name</th>\n",
       "      <th>genre_review</th>\n",
       "    </tr>\n",
       "  </thead>\n",
       "  <tbody>\n",
       "    <tr>\n",
       "      <th>0</th>\n",
       "      <td>[\\n, [Snowy days], \\n]</td>\n",
       "      <td>[\\nFeature by Alice Cary\\n]</td>\n",
       "      <td>[\\n, [Children's], \\n / \\n, [Children's Pictur...</td>\n",
       "    </tr>\n",
       "    <tr>\n",
       "      <th>1</th>\n",
       "      <td>[\\n, [Audio: January 2021], \\n]</td>\n",
       "      <td>[\\nFeature by Anna Zeitlin\\n]</td>\n",
       "      <td>[\\n, [Audio], \\n / \\n, [Poetry], \\n / \\n, [Fic...</td>\n",
       "    </tr>\n",
       "    <tr>\n",
       "      <th>2</th>\n",
       "      <td>[\\n, [Summerwater], \\n]</td>\n",
       "      <td>[\\nReview by Thane Tierney\\n]</td>\n",
       "      <td>[\\n, [Fiction], \\n / \\n, [Literary Fiction], \\n]</td>\n",
       "    </tr>\n",
       "    <tr>\n",
       "      <th>3</th>\n",
       "      <td>[\\n, [Amari and the Night Brothers], \\n]</td>\n",
       "      <td>[\\nReview by Alice Cary\\n]</td>\n",
       "      <td>[\\n, [Children's], \\n / \\n, [Middle Grade], \\n]</td>\n",
       "    </tr>\n",
       "    <tr>\n",
       "      <th>4</th>\n",
       "      <td>[\\n, [Winterkeep], \\n]</td>\n",
       "      <td>[\\nReview by Jill Ratzan\\n]</td>\n",
       "      <td>[\\n, [YA], \\n / \\n, [YA Fiction], \\n]</td>\n",
       "    </tr>\n",
       "    <tr>\n",
       "      <th>5</th>\n",
       "      <td>[\\n, [The Crooked Path to Abolition], \\n]</td>\n",
       "      <td>[\\nReview by Roger Bishop\\n]</td>\n",
       "      <td>[\\n, [Nonfiction], \\n / \\n, [History], \\n / \\n...</td>\n",
       "    </tr>\n",
       "  </tbody>\n",
       "</table>\n",
       "</div>"
      ],
      "text/plain": [
       "                                   book_name                    author_name  \\\n",
       "0                     [\\n, [Snowy days], \\n]    [\\nFeature by Alice Cary\\n]   \n",
       "1            [\\n, [Audio: January 2021], \\n]  [\\nFeature by Anna Zeitlin\\n]   \n",
       "2                    [\\n, [Summerwater], \\n]  [\\nReview by Thane Tierney\\n]   \n",
       "3   [\\n, [Amari and the Night Brothers], \\n]     [\\nReview by Alice Cary\\n]   \n",
       "4                     [\\n, [Winterkeep], \\n]    [\\nReview by Jill Ratzan\\n]   \n",
       "5  [\\n, [The Crooked Path to Abolition], \\n]   [\\nReview by Roger Bishop\\n]   \n",
       "\n",
       "                                        genre_review  \n",
       "0  [\\n, [Children's], \\n / \\n, [Children's Pictur...  \n",
       "1  [\\n, [Audio], \\n / \\n, [Poetry], \\n / \\n, [Fic...  \n",
       "2   [\\n, [Fiction], \\n / \\n, [Literary Fiction], \\n]  \n",
       "3    [\\n, [Children's], \\n / \\n, [Middle Grade], \\n]  \n",
       "4              [\\n, [YA], \\n / \\n, [YA Fiction], \\n]  \n",
       "5  [\\n, [Nonfiction], \\n / \\n, [History], \\n / \\n...  "
      ]
     },
     "execution_count": 45,
     "metadata": {},
     "output_type": "execute_result"
    }
   ],
   "source": [
    "import pandas as pd\n",
    "books=pd.DataFrame({})\n",
    "books['book_name']=book\n",
    "books['author_name']=author\n",
    "books['genre_review']=genre\n",
    "books"
   ]
  },
  {
   "cell_type": "code",
   "execution_count": null,
   "metadata": {},
   "outputs": [],
   "source": []
  }
 ],
 "metadata": {
  "kernelspec": {
   "display_name": "Python 3",
   "language": "python",
   "name": "python3"
  },
  "language_info": {
   "codemirror_mode": {
    "name": "ipython",
    "version": 3
   },
   "file_extension": ".py",
   "mimetype": "text/x-python",
   "name": "python",
   "nbconvert_exporter": "python",
   "pygments_lexer": "ipython3",
   "version": "3.8.5"
  }
 },
 "nbformat": 4,
 "nbformat_minor": 4
}
